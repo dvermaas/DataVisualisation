{
 "cells": [
  {
   "cell_type": "code",
   "execution_count": 1,
   "metadata": {
    "slideshow": {
     "slide_type": "-"
    }
   },
   "outputs": [],
   "source": [
    "# Install following package:\n",
    "#pip install squarify"
   ]
  },
  {
   "cell_type": "code",
   "execution_count": 2,
   "metadata": {
    "slideshow": {
     "slide_type": "-"
    }
   },
   "outputs": [
    {
     "data": {
      "text/html": [
       "<script>$(\"div.input\").hide()</script>"
      ],
      "text/plain": [
       "<IPython.core.display.HTML object>"
      ]
     },
     "metadata": {},
     "output_type": "display_data"
    },
    {
     "data": {
      "application/vnd.jupyter.widget-view+json": {
       "model_id": "b60e93bef5814527a6144ea797b1c9db",
       "version_major": 2,
       "version_minor": 0
      },
      "text/plain": [
       "ToggleButton(value=False, description='Show code')"
      ]
     },
     "metadata": {},
     "output_type": "display_data"
    }
   ],
   "source": [
    "import ipywidgets as widgets\n",
    "from IPython.display import display, HTML\n",
    "\n",
    "javascript_functions = {False: \"hide()\", True: \"show()\"}\n",
    "button_descriptions  = {False: \"Show code\", True: \"Hide code\"}\n",
    "\n",
    "\n",
    "def toggle_code(state):\n",
    "\n",
    "    \"\"\"\n",
    "    Toggles the JavaScript show()/hide() function on the div.input element.\n",
    "    \"\"\"\n",
    "\n",
    "    output_string = \"<script>$(\\\"div.input\\\").{}</script>\"\n",
    "    output_args   = (javascript_functions[state],)\n",
    "    output        = output_string.format(*output_args)\n",
    "\n",
    "    display(HTML(output))\n",
    "\n",
    "\n",
    "def button_action(value):\n",
    "\n",
    "    \"\"\"\n",
    "    Calls the toggle_code function and updates the button description.\n",
    "    \"\"\"\n",
    "\n",
    "    state = value.new\n",
    "\n",
    "    toggle_code(state)\n",
    "\n",
    "    value.owner.description = button_descriptions[state]\n",
    "\n",
    "\n",
    "state = False\n",
    "toggle_code(state)\n",
    "\n",
    "button = widgets.ToggleButton(state, description = button_descriptions[state])\n",
    "button.observe(button_action, \"value\")\n",
    "\n",
    "display(button)"
   ]
  },
  {
   "cell_type": "code",
   "execution_count": 3,
   "metadata": {
    "slideshow": {
     "slide_type": "-"
    }
   },
   "outputs": [
    {
     "data": {
      "text/html": [
       "        <script type=\"text/javascript\">\n",
       "        window.PlotlyConfig = {MathJaxConfig: 'local'};\n",
       "        if (window.MathJax) {MathJax.Hub.Config({SVG: {font: \"STIX-Web\"}});}\n",
       "        if (typeof require !== 'undefined') {\n",
       "        require.undef(\"plotly\");\n",
       "        requirejs.config({\n",
       "            paths: {\n",
       "                'plotly': ['https://cdn.plot.ly/plotly-latest.min']\n",
       "            }\n",
       "        });\n",
       "        require(['plotly'], function(Plotly) {\n",
       "            window._Plotly = Plotly;\n",
       "        });\n",
       "        }\n",
       "        </script>\n",
       "        "
      ]
     },
     "metadata": {},
     "output_type": "display_data"
    }
   ],
   "source": [
    "from plotly.offline import init_notebook_mode, iplot\n",
    "import plotly.graph_objs as go\n",
    "\n",
    "init_notebook_mode(connected=True)\n",
    "\n",
    "import pandas as pd\n",
    "import numpy as np\n",
    "\n",
    "###############################################\n",
    "\n",
    "# Modules for widgets\n",
    "import ipywidgets as wg\n",
    "from IPython.display import display\n",
    "import warnings\n",
    "import squarify\n",
    "warnings.simplefilter('ignore')\n",
    "\n",
    "# Modules for delay\n",
    "import time\n",
    "from collections import Counter\n",
    "from collections import defaultdict"
   ]
  },
  {
   "cell_type": "code",
   "execution_count": 4,
   "metadata": {
    "slideshow": {
     "slide_type": "-"
    }
   },
   "outputs": [],
   "source": [
    "df = pd.read_csv('globalterrorismdb_0718dist.csv', encoding = \"ISO-8859-1\", low_memory=False)\n",
    "df_wgi = pd.read_csv('WorldBank_Data.csv', encoding = \"ISO-8859-1\", low_memory=False)\n",
    "df1 = pd.read_csv('democracies.csv', encoding = \"ISO-8859-1\", low_memory=False)\n",
    "\n",
    "df.fillna(0, inplace=True)\n",
    "df_wgi.replace(\"..\", 100, inplace=True)\n",
    "df_wgi.dropna(inplace=True)"
   ]
  },
  {
   "cell_type": "code",
   "execution_count": 5,
   "metadata": {
    "slideshow": {
     "slide_type": "-"
    }
   },
   "outputs": [],
   "source": [
    "year = wg.IntSlider(\n",
    "    value=2017,\n",
    "    min=1996,\n",
    "    max=2017,\n",
    "    step=1,\n",
    "    description='Year: ',\n",
    "    disabled=False,\n",
    "    continuous_update=False,\n",
    "    orientation='horizontal',\n",
    "    readout=True,\n",
    "    readout_format='d'\n",
    ")"
   ]
  },
  {
   "cell_type": "code",
   "execution_count": 6,
   "metadata": {
    "slideshow": {
     "slide_type": "-"
    }
   },
   "outputs": [],
   "source": [
    "def Scatterplot(year):\n",
    "    dt = []\n",
    "    cyear = str(year) + \" [YR\" + str(year) + ']'\n",
    "    cyear1 = df_wgi.loc[df_wgi[cyear]]\n",
    "    cyear2= df_wgi.loc[:, ['Country Name', 'Series Code',cyear]]\n",
    "    tyear = df.loc[df['iyear'] == year]\n",
    "    countries = tyear['country_txt'].unique()\n",
    "\n",
    "    for country in countries:\n",
    "        cyear3 = cyear2.loc[cyear2['Series Code'] == 'PV.EST']\n",
    "        cyear4 = cyear3.loc[cyear3['Country Name']== country]\n",
    "        Political_stability= float(cyear4[cyear].sum())\n",
    "        cur_ct_terrorism = tyear[tyear['country_txt'] == country]\n",
    "        aanslagen = 0\n",
    "        for row in cur_ct_terrorism['country_txt']:\n",
    "            aanslagen += 1\n",
    "        if Political_stability >= -5 and Political_stability <= 5:    \n",
    "            trace0 = go.Scatter(\n",
    "                x = [Political_stability],\n",
    "                y = [aanslagen],\n",
    "                mode = 'markers',\n",
    "                marker = dict(\n",
    "                    size = 10,\n",
    "                ),\n",
    "                name = country,\n",
    "                text = country\n",
    "            )\n",
    "            dt.insert(0, trace0)\n",
    "\n",
    "    layout = go.Layout(\n",
    "        autosize = True,\n",
    "        title = go.layout.Title(\n",
    "            text =\"Aantal aanslagen tegenover Politieke Stabiliteit (\" + str(year) + \")\",\n",
    "        ),\n",
    "        xaxis=go.layout.XAxis(\n",
    "            title = 'Political_stability',\n",
    "            autorange = True,\n",
    "        ),\n",
    "        yaxis = go.layout.YAxis(\n",
    "            type = 'log',\n",
    "            title = 'Aanslagen',\n",
    "            autorange = True,\n",
    "        ),\n",
    "    )\n",
    "    if dt == []:\n",
    "        print(\"No data available for this time period.\")\n",
    "    fig = go.Figure(data= dt, layout=layout)\n",
    "    iplot(fig)"
   ]
  },
  {
   "cell_type": "code",
   "execution_count": null,
   "metadata": {
    "slideshow": {
     "slide_type": "-"
    }
   },
   "outputs": [],
   "source": []
  },
  {
   "cell_type": "code",
   "execution_count": 7,
   "metadata": {
    "slideshow": {
     "slide_type": "-"
    }
   },
   "outputs": [],
   "source": [
    "democracy = []\n",
    "other = []\n",
    "year_dif = 0\n",
    "\n",
    "for i in range(len(df1['Entity'])):\n",
    "    try:\n",
    "        if year_dif < int(df1['Age of democracies at the end of 2015 (Boix, Miller, and Rosato, 2013, 2018) (years old)'][i]):\n",
    "            democracy.append(df1['Entity'][i])\n",
    "        else:\n",
    "            other.append(df1['Entity'][i])\n",
    "    except:\n",
    "        other.append(df1['Entity'][i])"
   ]
  },
  {
   "cell_type": "code",
   "execution_count": null,
   "metadata": {
    "slideshow": {
     "slide_type": "-"
    }
   },
   "outputs": [],
   "source": []
  },
  {
   "cell_type": "code",
   "execution_count": 8,
   "metadata": {
    "slideshow": {
     "slide_type": "-"
    }
   },
   "outputs": [],
   "source": [
    "# Targets of non western countries.\n",
    "\n",
    "def terror(df):\n",
    "    known_df = df.loc[(df[\"gname\"] != 'Unknown')]\n",
    "    \n",
    "    count = {}\n",
    "    for i in known_df[\"gname\"]:\n",
    "        if i in count:\n",
    "            count[i] += 1\n",
    "        else:\n",
    "            count[i] = 1\n",
    "\n",
    "    overig = 0\n",
    "    pop_list = []\n",
    "    for i, j in count.items():\n",
    "        if j <= (len(known_df['gname'])/100)*2:\n",
    "            pop_list.append(i)\n",
    "            overig += j\n",
    "\n",
    "    for key in pop_list:\n",
    "        count.pop(key)\n",
    "\n",
    "    count['Overig (onder 2%)'] = overig\n",
    "\n",
    "    trace_1 = {\n",
    "      \"hole\": 0.8,\n",
    "      'text': [i for i, j in count.items()],\n",
    "      \"textposition\":'outside', #yes\n",
    "      \"showlegend\": False,\n",
    "      \"type\": \"pie\",\n",
    "      \"values\": [j for i, j in count.items()]\n",
    "    }\n",
    "\n",
    "    layout = {\n",
    "      \"title\": \"Aanslagen terroristische groepen (1970 - 2017) \", \n",
    "    }\n",
    "    fig = go.Figure(data= [trace_1], layout=layout)\n",
    "    iplot(fig)"
   ]
  },
  {
   "cell_type": "code",
   "execution_count": 9,
   "metadata": {
    "slideshow": {
     "slide_type": "-"
    }
   },
   "outputs": [],
   "source": [
    "def political_donut(year):\n",
    "    if year == 1993:\n",
    "        print('Terrorist database skipped this year :(')\n",
    "        return False\n",
    "\n",
    "    democracy = []\n",
    "    other = []\n",
    "    year_dif = 2015 - year\n",
    "\n",
    "    for i in range(len(df1['Entity'])):\n",
    "        try:\n",
    "            if year_dif < int(df1['Age of democracies at the end of 2015 (Boix, Miller, and Rosato, 2013, 2018) (years old)'][i]):\n",
    "                democracy.append(df1['Entity'][i])\n",
    "            else:\n",
    "                other.append(df1['Entity'][i])\n",
    "        except:\n",
    "            other.append(df1['Entity'][i])\n",
    "    '''\n",
    "    print('(democracy)', democracy)\n",
    "    print('')\n",
    "    print('(bad)', other)\n",
    "    ''' \n",
    "    \n",
    "    count = {}\n",
    "    for i in df.loc[df['iyear'] == year]['country_txt']:\n",
    "        if i in count:\n",
    "            count[i] += 1\n",
    "        else:\n",
    "            count[i] = 1\n",
    "\n",
    "    dem = 0\n",
    "    notdem = 0\n",
    "    wut = 0\n",
    "    check = []\n",
    "    for i, j in count.items():\n",
    "        if i in democracy:\n",
    "            dem += j\n",
    "        elif i in other:\n",
    "            notdem += j\n",
    "        else:\n",
    "            check.append(i)\n",
    "            wut += j\n",
    "            \n",
    "    count = {}\n",
    "    count['Not democracy'] = notdem\n",
    "    count['Democracy'] = dem\n",
    "    count['Unknown'] = wut\n",
    "    \n",
    "    ###\n",
    "    # % democracy vs not-democracy\n",
    "    trace_1 = {\n",
    "    \"hole\": 0.8,\n",
    "    'text': ['Democracy', 'Not democracy'],  \n",
    "    'marker': {'colors': ['rgb(0, 48, 240)', 'rgb(215, 11, 11)']},\n",
    "    \"textposition\":'outside',\n",
    "    \"showlegend\": False, \n",
    "    \"type\": \"pie\", \n",
    "    \"values\": [len(democracy), len(other)]\n",
    "    }\n",
    "    layout = {\n",
    "        \"title\": 'Democracy vs not democracy (' + str(year) + \")\", \n",
    "    }\n",
    "\n",
    "    fig = go.Figure(data= [trace_1], layout=layout)\n",
    "    \n",
    "    iplot(fig)\n",
    "    #Remove this in final version\n",
    "    #print(count)\n",
    "    \n",
    "    trace_1 = {\n",
    "      \"hole\": 0.8,\n",
    "      'text': [i for i, j in count.items()],\n",
    "      \"textposition\":'outside',\n",
    "      \"showlegend\": False, \n",
    "      \"type\": \"pie\", \n",
    "      \"values\": [j for i, j in count.items()],\n",
    "      'marker': {'colors': ['rgb(215, 11, 11)', 'rgb(0, 48, 240)', 'rgb(0, 0, 0)']}\n",
    "    }\n",
    "\n",
    "    layout = {\n",
    "      \"title\": \"Locaties aanslagen (\" + str(year) + \")\", \n",
    "    }\n",
    "    fig = go.Figure(data= [trace_1], layout=layout)\n",
    "    iplot(fig)\n",
    "    \n",
    "    #Remove this in final version\n",
    "    #print('error', check)\n",
    "political_slider = wg.IntSlider(\n",
    "    value=2017,\n",
    "    min=1970,\n",
    "    max=2015,\n",
    "    step=1,\n",
    "    description='Year: ',\n",
    "    disabled=False,\n",
    "    continuous_update=False,\n",
    "    orientation='horizontal',\n",
    "    readout=True,\n",
    "    readout_format='d'\n",
    ")"
   ]
  },
  {
   "cell_type": "code",
   "execution_count": 10,
   "metadata": {
    "slideshow": {
     "slide_type": "-"
    }
   },
   "outputs": [],
   "source": [
    "def kill_confirmed(year):\n",
    "    if year == 1993:\n",
    "        print('Terrorist database skipped this year :(')\n",
    "        return False\n",
    "\n",
    "    democracy = []\n",
    "    other = []\n",
    "    year_dif = 2015 - year\n",
    "\n",
    "    for i in range(len(df1['Entity'])):\n",
    "        try:\n",
    "            if year_dif < int(df1['Age of democracies at the end of 2015 (Boix, Miller, and Rosato, 2013, 2018) (years old)'][i]):\n",
    "                democracy.append(df1['Entity'][i])\n",
    "            else:\n",
    "                other.append(df1['Entity'][i])\n",
    "        except:\n",
    "            other.append(df1['Entity'][i])\n",
    "            \n",
    "    countries = df['country_txt'].unique()\n",
    "    killed = [0,0,0]\n",
    "    wounded = [0,0,0]\n",
    "    victims= [0,0,0]\n",
    "    dc = df[df['iyear'] == year]\n",
    "\n",
    "    for country in countries:\n",
    "        cur_yr = dc[df['country_txt'] == country]\n",
    "        wnd = cur_yr['nwound'].sum()\n",
    "        kll = cur_yr['nkill'].sum()\n",
    "        vctm = wnd + kll\n",
    "        if country in democracy:\n",
    "            victims[0] += vctm\n",
    "            wounded[0] += wnd\n",
    "            killed[0] += kll\n",
    "        elif country in other:\n",
    "            victims[1] += vctm\n",
    "            wounded[1] += wnd\n",
    "            killed[1] += kll\n",
    "        \n",
    "        else:\n",
    "            victims[2] += vctm\n",
    "            wounded[2] += wnd\n",
    "            killed[2] += kll\n",
    "    \n",
    "    total = len(democracy) + len(other)\n",
    "    countries = ['democracy ~' + str(round((len(democracy) /total)*100)) +'%', 'not democracy ~' + str(round((len(other) /total)*100)) +'%']\n",
    "            \n",
    "    sort_cty = [victims for _,victims in sorted(zip(victims, countries), reverse = True)]\n",
    "    sort_vctm = sorted(victims, reverse = True)\n",
    "    sort_kill = [victims for _,victims in sorted(zip(victims, killed), reverse = True)]\n",
    "    sort_wnd = [victims for _,victims in sorted(zip(victims, wounded), reverse = True)]\n",
    "\n",
    "    trace1 = go.Bar(\n",
    "        x = sort_cty[:2],\n",
    "        y = sort_kill[:2],\n",
    "        name=\"Doden\"\n",
    "    )\n",
    "\n",
    "    trace2 = go.Bar(\n",
    "         x = sort_cty[:2],\n",
    "         y = sort_wnd[:2],\n",
    "         name=\"Gewonden\"\n",
    "     )\n",
    "\n",
    "    plotlayout = go.Layout(\n",
    "        title = go.layout.Title(\n",
    "            text ='Doden en gewonden onder bestuursvormen (' + str(year) +')',\n",
    "        ),\n",
    "        xaxis=go.layout.XAxis(\n",
    "            type = 'category',\n",
    "            title = 'Bestuursvorm',\n",
    "        ),\n",
    "        yaxis = go.layout.YAxis(\n",
    "            title = 'Slachtoffers'\n",
    "        ),\n",
    "        barmode='group'\n",
    "    )\n",
    "\n",
    "    fig = go.Figure(data=[trace1, trace2], layout=plotlayout)\n",
    "    iplot(fig)\n",
    "    print('De percentages geven aan hoeveel % van de wereld deze bestuursvorm heeft.')\n",
    "\n",
    "kill_slider = wg.IntSlider(\n",
    "    value=2017,\n",
    "    min=1970,\n",
    "    max=2015,\n",
    "    step=1,\n",
    "    description='Year: ',\n",
    "    disabled=False,\n",
    "    continuous_update=False,\n",
    "    orientation='horizontal',\n",
    "    readout=True,\n",
    "    readout_format='d'\n",
    ")"
   ]
  },
  {
   "cell_type": "code",
   "execution_count": 11,
   "metadata": {
    "slideshow": {
     "slide_type": "-"
    }
   },
   "outputs": [],
   "source": [
    "def count_democracies():\n",
    "    \n",
    "    countries = df['country_txt'].unique()\n",
    "    year_of_dem = {}\n",
    "    \n",
    "    for country in countries:\n",
    "        try:\n",
    "            year_of_dem[country] = 2015 -  int(df1.loc[df1['Entity'] == country, 'Age of democracies at the end of 2015 (Boix, Miller, and Rosato, 2013, 2018) (years old)'].iloc[0])\n",
    "        # if found years that country is a democracy is a string and can't be converted to int exception is thrown\n",
    "        except:\n",
    "            year_of_dem[country] = 2016\n",
    "    \n",
    "    dem_items = defaultdict(int)\n",
    "    nondem_items = defaultdict(int)\n",
    "    \n",
    "    df2 = df.loc[:, ['iyear','country_txt', 'attacktype1_txt']]\n",
    "    df2['casualties'] = df['nwound'] + df['nkill']\n",
    "    \n",
    "    for i, row in df2.iterrows():\n",
    "        year, country, attacktype, casualties = list(row)\n",
    "        if year_of_dem[country] < year:\n",
    "            dem_items[attacktype] += casualties\n",
    "        else:\n",
    "            nondem_items[attacktype] += casualties\n",
    "    \n",
    "    return dem_items, nondem_items\n",
    "            \n",
    "dem_items, nondem_items = count_democracies()"
   ]
  },
  {
   "cell_type": "markdown",
   "metadata": {
    "slideshow": {
     "slide_type": "slide"
    }
   },
   "source": [
    "## De invloed van politiek op terrorisme\n",
    "Waar komt terrorisme vandaan en onder welke politieke omstandigheden is het het gevaarlijkst? Wonen in een democratie heeft het voordeel dat de burgers meer invloed uit kunnen oefenen op het bestuur van het land. In deze datastory zullen wij beargumenteren dat democratie ook terrorisme inperkt."
   ]
  },
  {
   "cell_type": "code",
   "execution_count": 12,
   "metadata": {
    "slideshow": {
     "slide_type": "slide"
    }
   },
   "outputs": [
    {
     "data": {
      "application/vnd.jupyter.widget-view+json": {
       "model_id": "aafebf17e36c43f5ae0449a8cacbfda7",
       "version_major": 2,
       "version_minor": 0
      },
      "text/plain": [
       "interactive(children=(IntSlider(value=2015, continuous_update=False, description='Year: ', max=2015, min=1970)…"
      ]
     },
     "metadata": {},
     "output_type": "display_data"
    }
   ],
   "source": [
    "wg.interact(political_donut, year = political_slider);"
   ]
  },
  {
   "cell_type": "markdown",
   "metadata": {
    "slideshow": {
     "slide_type": "subslide"
    }
   },
   "source": [
    "De bovenstaande donutcharts laten zien dat er meer aanslagen voorkomen in niet-democratische landen, terwijl er juist meer democratische landen in de wereld zijn. Verder terug in de tijd worden de meeste aanslagen gepleegt door democratische landen. De charts houden echter geen rekening met bevolkingsgrootte. Ook is te zien dat over tijd steeds meer landen democratisch worden."
   ]
  },
  {
   "cell_type": "code",
   "execution_count": 13,
   "metadata": {
    "slideshow": {
     "slide_type": "slide"
    }
   },
   "outputs": [
    {
     "data": {
      "application/vnd.jupyter.widget-view+json": {
       "model_id": "fff0e20617c34d2aa13e52c63beb8a21",
       "version_major": 2,
       "version_minor": 0
      },
      "text/plain": [
       "interactive(children=(IntSlider(value=2015, continuous_update=False, description='Year: ', max=2015, min=1970)…"
      ]
     },
     "metadata": {},
     "output_type": "display_data"
    }
   ],
   "source": [
    "wg.interact(kill_confirmed, year = kill_slider);"
   ]
  },
  {
   "cell_type": "markdown",
   "metadata": {
    "slideshow": {
     "slide_type": "fragment"
    }
   },
   "source": [
    "Over de hele periode sinds 1970 is te zien dat zeker in de laatste jaren het gedeelte van de slachtoffers dat dodelijk is een stuk lager is dan in niet-democratische landen."
   ]
  },
  {
   "cell_type": "markdown",
   "metadata": {
    "slideshow": {
     "slide_type": "fragment"
    }
   },
   "source": [
    "Uit de grafiek blijkt dat er veel meer doden en gewonden vallen in niet-democratische landen terwijl ze een minderheid opmaken t.o.v. bestuursvorm"
   ]
  },
  {
   "cell_type": "code",
   "execution_count": 14,
   "metadata": {},
   "outputs": [],
   "source": [
    "sortedkeys = sorted(dem_items, key=str.lower)\n",
    "nondem_casualties = []\n",
    "dem_casualties = []\n",
    "\n",
    "for key in sortedkeys:\n",
    "    dem_casualties.append(dem_items[key])\n",
    "    nondem_casualties.append(nondem_items[key])\n",
    "    \n",
    "trace_1 = go.Bar(\n",
    "    x = sortedkeys,\n",
    "    y = dem_casualties\n",
    ")\n",
    "\n",
    "trace_2 = go.Bar(\n",
    "    x = sortedkeys,\n",
    "    y = nondem_casualties\n",
    ")\n",
    "\n",
    "layout_1 = go.Layout(\n",
    "    title = 'Democratisch'\n",
    ")\n",
    "\n",
    "layout_2 = go.Layout(\n",
    "    title = 'Niet Democratisch'\n",
    ")\n",
    "\n",
    "#iplot(go.Figure(data=[trace_1], layout = layout_1))\n",
    "#iplot(go.Figure(data=[trace_2], layout = layout_2))\n"
   ]
  },
  {
   "cell_type": "markdown",
   "metadata": {},
   "source": [
    "Het is dus duidelijk dat er meer en dodelijkere aanslagen plaatsvinden in niet-democratische landen, maar hoe komt dat?\n",
    "## Type aanslagen\n",
    "Als we vergelijken welke soorten aanslagen het vaakst voorkomen in democratische en niet-democratische landen dan vallen een aantal interessante dingen op.\n",
    "In niet-democratische landen is verreweg het grootste aandeel van terrorisme bomaanslagen \n",
    "In niet-democratische landen zijn gewapende en ongewapende aanvallen fysieke aanvallen veelvoorkomend en zijn er relatief veel vliegtuigovernames. In de treemaps hieronder zijn die verschillen te zien en in het staafdiagram daaronder zijn de verschillen uitgelicht."
   ]
  },
  {
   "cell_type": "code",
   "execution_count": 15,
   "metadata": {
    "scrolled": false
   },
   "outputs": [
    {
     "data": {
      "application/vnd.plotly.v1+json": {
       "config": {
        "linkText": "Export to plot.ly",
        "plotlyServerURL": "https://plot.ly",
        "showLink": false
       },
       "data": [
        {
         "hoverinfo": "text",
         "text": [
          "97886 casualties <br>29.3 % of total",
          "16764 casualties <br>5.0 % of total",
          "161008 casualties <br>48.2 % of total",
          "2736 casualties <br>0.8 % of total",
          "19925 casualties <br>6.0 % of total",
          "4181 casualties <br>1.3 % of total",
          "8727 casualties <br>2.6 % of total",
          "10042 casualties <br>3.0 % of total",
          "12535 casualties <br>3.8 % of total"
         ],
         "type": "scatter",
         "uid": "9e51c538-bb77-4efc-be96-31a0023ce64f",
         "x": [
          17.17325136906688,
          17.17325136906688,
          67.17325136906689,
          47.13993566087265,
          47.13993566087265,
          67.22067418207205,
          67.22067418207205,
          87.2539898902663,
          87.2539898902663
         ],
         "y": [
          42.68905364151766,
          92.68905364151766,
          36.73398614672787,
          75.06965862250355,
          88.33567247577568,
          77.76493572082875,
          91.03094957410089,
          79.36854859298884,
          92.63456244626096
         ]
        }
       ],
       "layout": {
        "annotations": [
         {
          "font": {
           "family": "Arial",
           "size": 39.90820334038969
          },
          "showarrow": false,
          "text": "<b>Armed<br>Assault</b>",
          "x": 17.17325136906688,
          "y": 42.68905364151766
         },
         {
          "font": {
           "family": "Arial",
           "size": 16.32279848503281
          },
          "showarrow": false,
          "text": "<b>Assassination</b>",
          "x": 17.17325136906688,
          "y": 92.68905364151766
         },
         {
          "font": {
           "family": "Arial",
           "size": 46.373823185107334
          },
          "showarrow": false,
          "text": "<b>Bombing/Explosion</b>",
          "x": 67.17325136906689,
          "y": 36.73398614672787
         },
         {
          "font": {
           "family": "Arial",
           "size": 9.596746167857804
          },
          "showarrow": false,
          "text": "<b>Facility/Infrastructure<br>Attack</b>",
          "x": 47.13993566087265,
          "y": 75.06965862250355
         },
         {
          "font": {
           "family": "Arial",
           "size": 16.3051736313088
          },
          "showarrow": false,
          "text": "<b>Hijacking</b>",
          "x": 47.13993566087265,
          "y": 88.33567247577568
         },
         {
          "font": {
           "family": "Arial",
           "size": 7.722846017222344
          },
          "showarrow": false,
          "text": "<b>Hostage<br>Taking<br>(Barricade<br>Incident)</b>",
          "x": 67.22067418207205,
          "y": 77.76493572082875
         },
         {
          "font": {
           "family": "Arial",
           "size": 10.837570682906422
          },
          "showarrow": false,
          "text": "<b>Hostage<br>Taking<br>(Kidnapping)</b>",
          "x": 67.22067418207205,
          "y": 91.03094957410089
         },
         {
          "font": {
           "family": "Arial",
           "size": 12.43105760617788
          },
          "showarrow": false,
          "text": "<b>Unarmed<br>Assault</b>",
          "x": 87.2539898902663,
          "y": 79.36854859298884
         },
         {
          "font": {
           "family": "Arial",
           "size": 13.407631775648504
          },
          "showarrow": false,
          "text": "<b>Unknown</b>",
          "x": 87.2539898902663,
          "y": 92.63456244626096
         }
        ],
        "height": 1000,
        "hovermode": "closest",
        "shapes": [
         {
          "fillcolor": "#a6cee3",
          "line": {
           "width": 0.5
          },
          "type": "rect",
          "x0": 0,
          "x1": 34.34650273813376,
          "y0": 0,
          "y1": 85.37810728303532
         },
         {
          "fillcolor": "#1f78b4",
          "line": {
           "width": 0.5
          },
          "type": "rect",
          "x0": 0,
          "x1": 34.34650273813376,
          "y0": 85.37810728303532,
          "y1": 100
         },
         {
          "fillcolor": "#b2df8a",
          "line": {
           "width": 0.5
          },
          "type": "rect",
          "x0": 34.34650273813376,
          "x1": 100,
          "y0": 0,
          "y1": 73.46797229345574
         },
         {
          "fillcolor": "#33a02c",
          "line": {
           "width": 0.5
          },
          "type": "rect",
          "x0": 34.34650273813376,
          "x1": 59.93336858361154,
          "y0": 73.46797229345574,
          "y1": 76.67134495155138
         },
         {
          "fillcolor": "#fb9a99",
          "line": {
           "width": 0.5
          },
          "type": "rect",
          "x0": 34.34650273813376,
          "x1": 59.93336858361154,
          "y0": 76.67134495155138,
          "y1": 100
         },
         {
          "fillcolor": "#e31a1c",
          "line": {
           "width": 0.5
          },
          "type": "rect",
          "x0": 59.93336858361154,
          "x1": 74.50797978053257,
          "y0": 73.46797229345574,
          "y1": 82.06189914820176
         },
         {
          "fillcolor": "#fdbf6f",
          "line": {
           "width": 0.5
          },
          "type": "rect",
          "x0": 59.93336858361154,
          "x1": 74.50797978053257,
          "y0": 82.06189914820176,
          "y1": 100
         },
         {
          "fillcolor": "#ff7f00",
          "line": {
           "width": 0.5
          },
          "type": "rect",
          "x0": 74.50797978053257,
          "x1": 100.00000000000001,
          "y0": 73.46797229345574,
          "y1": 85.26912489252193
         },
         {
          "fillcolor": "#cab2d6",
          "line": {
           "width": 0.5
          },
          "type": "rect",
          "x0": 74.50797978053257,
          "x1": 100.00000000000001,
          "y0": 85.26912489252193,
          "y1": 100
         }
        ],
        "title": {
         "text": "Types of terrorist attacks in democratic countries"
        },
        "width": 1000,
        "xaxis": {
         "showgrid": false,
         "zeroline": false
        },
        "yaxis": {
         "showgrid": false,
         "zeroline": false
        }
       }
      },
      "text/html": [
       "<div>\n",
       "        \n",
       "        \n",
       "            <div id=\"301f1ce7-2914-4e4f-89b2-cdcedd48dbb2\" class=\"plotly-graph-div\" style=\"height:1000px; width:1000px;\"></div>\n",
       "            <script type=\"text/javascript\">\n",
       "                require([\"plotly\"], function(Plotly) {\n",
       "                    window.PLOTLYENV=window.PLOTLYENV || {};\n",
       "                    window.PLOTLYENV.BASE_URL='https://plot.ly';\n",
       "                    \n",
       "                if (document.getElementById(\"301f1ce7-2914-4e4f-89b2-cdcedd48dbb2\")) {\n",
       "                    Plotly.newPlot(\n",
       "                        '301f1ce7-2914-4e4f-89b2-cdcedd48dbb2',\n",
       "                        [{\"hoverinfo\": \"text\", \"text\": [\"97886 casualties <br>29.3 % of total\", \"16764 casualties <br>5.0 % of total\", \"161008 casualties <br>48.2 % of total\", \"2736 casualties <br>0.8 % of total\", \"19925 casualties <br>6.0 % of total\", \"4181 casualties <br>1.3 % of total\", \"8727 casualties <br>2.6 % of total\", \"10042 casualties <br>3.0 % of total\", \"12535 casualties <br>3.8 % of total\"], \"type\": \"scatter\", \"uid\": \"9e51c538-bb77-4efc-be96-31a0023ce64f\", \"x\": [17.17325136906688, 17.17325136906688, 67.17325136906689, 47.13993566087265, 47.13993566087265, 67.22067418207205, 67.22067418207205, 87.2539898902663, 87.2539898902663], \"y\": [42.68905364151766, 92.68905364151766, 36.73398614672787, 75.06965862250355, 88.33567247577568, 77.76493572082875, 91.03094957410089, 79.36854859298884, 92.63456244626096]}],\n",
       "                        {\"annotations\": [{\"font\": {\"family\": \"Arial\", \"size\": 39.90820334038969}, \"showarrow\": false, \"text\": \"<b>Armed<br>Assault</b>\", \"x\": 17.17325136906688, \"y\": 42.68905364151766}, {\"font\": {\"family\": \"Arial\", \"size\": 16.32279848503281}, \"showarrow\": false, \"text\": \"<b>Assassination</b>\", \"x\": 17.17325136906688, \"y\": 92.68905364151766}, {\"font\": {\"family\": \"Arial\", \"size\": 46.373823185107334}, \"showarrow\": false, \"text\": \"<b>Bombing/Explosion</b>\", \"x\": 67.17325136906689, \"y\": 36.73398614672787}, {\"font\": {\"family\": \"Arial\", \"size\": 9.596746167857804}, \"showarrow\": false, \"text\": \"<b>Facility/Infrastructure<br>Attack</b>\", \"x\": 47.13993566087265, \"y\": 75.06965862250355}, {\"font\": {\"family\": \"Arial\", \"size\": 16.3051736313088}, \"showarrow\": false, \"text\": \"<b>Hijacking</b>\", \"x\": 47.13993566087265, \"y\": 88.33567247577568}, {\"font\": {\"family\": \"Arial\", \"size\": 7.722846017222344}, \"showarrow\": false, \"text\": \"<b>Hostage<br>Taking<br>(Barricade<br>Incident)</b>\", \"x\": 67.22067418207205, \"y\": 77.76493572082875}, {\"font\": {\"family\": \"Arial\", \"size\": 10.837570682906422}, \"showarrow\": false, \"text\": \"<b>Hostage<br>Taking<br>(Kidnapping)</b>\", \"x\": 67.22067418207205, \"y\": 91.03094957410089}, {\"font\": {\"family\": \"Arial\", \"size\": 12.43105760617788}, \"showarrow\": false, \"text\": \"<b>Unarmed<br>Assault</b>\", \"x\": 87.2539898902663, \"y\": 79.36854859298884}, {\"font\": {\"family\": \"Arial\", \"size\": 13.407631775648504}, \"showarrow\": false, \"text\": \"<b>Unknown</b>\", \"x\": 87.2539898902663, \"y\": 92.63456244626096}], \"height\": 1000, \"hovermode\": \"closest\", \"shapes\": [{\"fillcolor\": \"#a6cee3\", \"line\": {\"width\": 0.5}, \"type\": \"rect\", \"x0\": 0.0, \"x1\": 34.34650273813376, \"y0\": 0.0, \"y1\": 85.37810728303532}, {\"fillcolor\": \"#1f78b4\", \"line\": {\"width\": 0.5}, \"type\": \"rect\", \"x0\": 0.0, \"x1\": 34.34650273813376, \"y0\": 85.37810728303532, \"y1\": 100.0}, {\"fillcolor\": \"#b2df8a\", \"line\": {\"width\": 0.5}, \"type\": \"rect\", \"x0\": 34.34650273813376, \"x1\": 100.0, \"y0\": 0.0, \"y1\": 73.46797229345574}, {\"fillcolor\": \"#33a02c\", \"line\": {\"width\": 0.5}, \"type\": \"rect\", \"x0\": 34.34650273813376, \"x1\": 59.93336858361154, \"y0\": 73.46797229345574, \"y1\": 76.67134495155138}, {\"fillcolor\": \"#fb9a99\", \"line\": {\"width\": 0.5}, \"type\": \"rect\", \"x0\": 34.34650273813376, \"x1\": 59.93336858361154, \"y0\": 76.67134495155138, \"y1\": 100.0}, {\"fillcolor\": \"#e31a1c\", \"line\": {\"width\": 0.5}, \"type\": \"rect\", \"x0\": 59.93336858361154, \"x1\": 74.50797978053257, \"y0\": 73.46797229345574, \"y1\": 82.06189914820176}, {\"fillcolor\": \"#fdbf6f\", \"line\": {\"width\": 0.5}, \"type\": \"rect\", \"x0\": 59.93336858361154, \"x1\": 74.50797978053257, \"y0\": 82.06189914820176, \"y1\": 100.0}, {\"fillcolor\": \"#ff7f00\", \"line\": {\"width\": 0.5}, \"type\": \"rect\", \"x0\": 74.50797978053257, \"x1\": 100.00000000000001, \"y0\": 73.46797229345574, \"y1\": 85.26912489252193}, {\"fillcolor\": \"#cab2d6\", \"line\": {\"width\": 0.5}, \"type\": \"rect\", \"x0\": 74.50797978053257, \"x1\": 100.00000000000001, \"y0\": 85.26912489252193, \"y1\": 100.0}], \"title\": {\"text\": \"Types of terrorist attacks in democratic countries\"}, \"width\": 1000, \"xaxis\": {\"showgrid\": false, \"zeroline\": false}, \"yaxis\": {\"showgrid\": false, \"zeroline\": false}},\n",
       "                        {\"showLink\": false, \"linkText\": \"Export to plot.ly\", \"plotlyServerURL\": \"https://plot.ly\", \"responsive\": true}\n",
       "                    ).then(function(){\n",
       "                            \n",
       "var gd = document.getElementById('301f1ce7-2914-4e4f-89b2-cdcedd48dbb2');\n",
       "var x = new MutationObserver(function (mutations, observer) {{\n",
       "        var display = window.getComputedStyle(gd).display;\n",
       "        if (!display || display === 'none') {{\n",
       "            console.log([gd, 'removed!']);\n",
       "            Plotly.purge(gd);\n",
       "            observer.disconnect();\n",
       "        }}\n",
       "}});\n",
       "\n",
       "// Listen for the removal of the full notebook cells\n",
       "var notebookContainer = gd.closest('#notebook-container');\n",
       "if (notebookContainer) {{\n",
       "    x.observe(notebookContainer, {childList: true});\n",
       "}}\n",
       "\n",
       "// Listen for the clearing of the current output cell\n",
       "var outputEl = gd.closest('.output');\n",
       "if (outputEl) {{\n",
       "    x.observe(outputEl, {childList: true});\n",
       "}}\n",
       "\n",
       "                        })\n",
       "                };\n",
       "                });\n",
       "            </script>\n",
       "        </div>"
      ]
     },
     "metadata": {},
     "output_type": "display_data"
    },
    {
     "data": {
      "application/vnd.plotly.v1+json": {
       "config": {
        "linkText": "Export to plot.ly",
        "plotlyServerURL": "https://plot.ly",
        "showLink": false
       },
       "data": [
        {
         "hoverinfo": "text",
         "text": [
          "139777 casualties <br>23.2 % of total",
          "22043 casualties <br>3.7 % of total",
          "368999 casualties <br>61.3 % of total",
          "4671 casualties <br>0.8 % of total",
          "794 casualties <br>0.1 % of total",
          "4263 casualties <br>0.7 % of total",
          "21950 casualties <br>3.6 % of total",
          "4865 casualties <br>0.8 % of total",
          "34571 casualties <br>5.7 % of total"
         ],
         "type": "scatter",
         "uid": "dcfcdf8a-8fe7-4ef0-b532-bbfdcd12b565",
         "x": [
          13.441695338185479,
          13.441695338185479,
          63.441695338185475,
          29.69283937812893,
          29.69283937812893,
          34.693812291340556,
          48.16939853455771,
          61.95446110320181,
          82.22773082004122
         ],
         "y": [
          43.189037201829194,
          93.1890372018292,
          41.920938486252396,
          90.747146200449,
          98.8262077141966,
          91.9209384862524,
          91.9209384862524,
          91.9209384862524,
          91.9209384862524
         ]
        }
       ],
       "layout": {
        "annotations": [
         {
          "font": {
           "family": "Arial",
           "size": 37.75382169334312
          },
          "showarrow": false,
          "text": "<b>Armed<br>Assault</b>",
          "x": 13.441695338185479,
          "y": 43.189037201829194
         },
         {
          "font": {
           "family": "Arial",
           "size": 13.50177209090419
          },
          "showarrow": false,
          "text": "<b>Assassination</b>",
          "x": 13.441695338185479,
          "y": 93.1890372018292
         },
         {
          "font": {
           "family": "Arial",
           "size": 52.31949543204461
          },
          "showarrow": false,
          "text": "<b>Bombing/Explosion</b>",
          "x": 63.441695338185475,
          "y": 41.920938486252396
         },
         {
          "font": {
           "family": "Arial",
           "size": 6.476478619801448
          },
          "showarrow": false,
          "text": "<b>Facility/Infrastructure<br>Attack</b>",
          "x": 29.69283937812893,
          "y": 90.747146200449
         },
         {
          "font": {
           "family": "Arial",
           "size": 2.655493991707583
          },
          "showarrow": false,
          "text": "<b>Hijacking</b>",
          "x": 29.69283937812893,
          "y": 98.8262077141966
         },
         {
          "font": {
           "family": "Arial",
           "size": 6.847057150134174
          },
          "showarrow": false,
          "text": "<b>Hostage<br>Taking<br>(Barricade<br>Incident)</b>",
          "x": 34.693812291340556,
          "y": 91.9209384862524
         },
         {
          "font": {
           "family": "Arial",
           "size": 12.90874903034073
          },
          "showarrow": false,
          "text": "<b>Hostage<br>Taking<br>(Kidnapping)</b>",
          "x": 48.16939853455771,
          "y": 91.9209384862524
         },
         {
          "font": {
           "family": "Arial",
           "size": 7.05337470041881
          },
          "showarrow": false,
          "text": "<b>Unarmed<br>Assault</b>",
          "x": 61.95446110320181,
          "y": 91.9209384862524
         },
         {
          "font": {
           "family": "Arial",
           "size": 17.234220462470933
          },
          "showarrow": false,
          "text": "<b>Unknown</b>",
          "x": 82.22773082004122,
          "y": 91.9209384862524
         }
        ],
        "height": 1000,
        "hovermode": "closest",
        "shapes": [
         {
          "fillcolor": "#a6cee3",
          "line": {
           "width": 0.5
          },
          "type": "rect",
          "x0": 0,
          "x1": 26.883390676370958,
          "y0": 0,
          "y1": 86.37807440365839
         },
         {
          "fillcolor": "#1f78b4",
          "line": {
           "width": 0.5
          },
          "type": "rect",
          "x0": 0,
          "x1": 26.883390676370958,
          "y0": 86.37807440365839,
          "y1": 100
         },
         {
          "fillcolor": "#b2df8a",
          "line": {
           "width": 0.5
          },
          "type": "rect",
          "x0": 26.883390676370958,
          "x1": 100,
          "y0": 0,
          "y1": 83.84187697250479
         },
         {
          "fillcolor": "#33a02c",
          "line": {
           "width": 0.5
          },
          "type": "rect",
          "x0": 26.883390676370958,
          "x1": 32.5022880798869,
          "y0": 83.84187697250479,
          "y1": 97.6524154283932
         },
         {
          "fillcolor": "#fb9a99",
          "line": {
           "width": 0.5
          },
          "type": "rect",
          "x0": 26.883390676370958,
          "x1": 32.5022880798869,
          "y0": 97.6524154283932,
          "y1": 100
         },
         {
          "fillcolor": "#e31a1c",
          "line": {
           "width": 0.5
          },
          "type": "rect",
          "x0": 32.5022880798869,
          "x1": 36.88533650279422,
          "y0": 83.84187697250479,
          "y1": 100
         },
         {
          "fillcolor": "#fdbf6f",
          "line": {
           "width": 0.5
          },
          "type": "rect",
          "x0": 36.88533650279422,
          "x1": 59.4534605663212,
          "y0": 83.84187697250479,
          "y1": 100
         },
         {
          "fillcolor": "#ff7f00",
          "line": {
           "width": 0.5
          },
          "type": "rect",
          "x0": 59.4534605663212,
          "x1": 64.45546164008242,
          "y0": 83.84187697250479,
          "y1": 100
         },
         {
          "fillcolor": "#cab2d6",
          "line": {
           "width": 0.5
          },
          "type": "rect",
          "x0": 64.45546164008242,
          "x1": 100.00000000000001,
          "y0": 83.84187697250479,
          "y1": 100
         }
        ],
        "title": {
         "text": "Types of terrorist attacks in non-democratic countries"
        },
        "width": 1000,
        "xaxis": {
         "showgrid": false,
         "zeroline": false
        },
        "yaxis": {
         "showgrid": false,
         "zeroline": false
        }
       }
      },
      "text/html": [
       "<div>\n",
       "        \n",
       "        \n",
       "            <div id=\"b4bea870-39d3-4f04-abb8-c9d74c327be9\" class=\"plotly-graph-div\" style=\"height:1000px; width:1000px;\"></div>\n",
       "            <script type=\"text/javascript\">\n",
       "                require([\"plotly\"], function(Plotly) {\n",
       "                    window.PLOTLYENV=window.PLOTLYENV || {};\n",
       "                    window.PLOTLYENV.BASE_URL='https://plot.ly';\n",
       "                    \n",
       "                if (document.getElementById(\"b4bea870-39d3-4f04-abb8-c9d74c327be9\")) {\n",
       "                    Plotly.newPlot(\n",
       "                        'b4bea870-39d3-4f04-abb8-c9d74c327be9',\n",
       "                        [{\"hoverinfo\": \"text\", \"text\": [\"139777 casualties <br>23.2 % of total\", \"22043 casualties <br>3.7 % of total\", \"368999 casualties <br>61.3 % of total\", \"4671 casualties <br>0.8 % of total\", \"794 casualties <br>0.1 % of total\", \"4263 casualties <br>0.7 % of total\", \"21950 casualties <br>3.6 % of total\", \"4865 casualties <br>0.8 % of total\", \"34571 casualties <br>5.7 % of total\"], \"type\": \"scatter\", \"uid\": \"dcfcdf8a-8fe7-4ef0-b532-bbfdcd12b565\", \"x\": [13.441695338185479, 13.441695338185479, 63.441695338185475, 29.69283937812893, 29.69283937812893, 34.693812291340556, 48.16939853455771, 61.95446110320181, 82.22773082004122], \"y\": [43.189037201829194, 93.1890372018292, 41.920938486252396, 90.747146200449, 98.8262077141966, 91.9209384862524, 91.9209384862524, 91.9209384862524, 91.9209384862524]}],\n",
       "                        {\"annotations\": [{\"font\": {\"family\": \"Arial\", \"size\": 37.75382169334312}, \"showarrow\": false, \"text\": \"<b>Armed<br>Assault</b>\", \"x\": 13.441695338185479, \"y\": 43.189037201829194}, {\"font\": {\"family\": \"Arial\", \"size\": 13.50177209090419}, \"showarrow\": false, \"text\": \"<b>Assassination</b>\", \"x\": 13.441695338185479, \"y\": 93.1890372018292}, {\"font\": {\"family\": \"Arial\", \"size\": 52.31949543204461}, \"showarrow\": false, \"text\": \"<b>Bombing/Explosion</b>\", \"x\": 63.441695338185475, \"y\": 41.920938486252396}, {\"font\": {\"family\": \"Arial\", \"size\": 6.476478619801448}, \"showarrow\": false, \"text\": \"<b>Facility/Infrastructure<br>Attack</b>\", \"x\": 29.69283937812893, \"y\": 90.747146200449}, {\"font\": {\"family\": \"Arial\", \"size\": 2.655493991707583}, \"showarrow\": false, \"text\": \"<b>Hijacking</b>\", \"x\": 29.69283937812893, \"y\": 98.8262077141966}, {\"font\": {\"family\": \"Arial\", \"size\": 6.847057150134174}, \"showarrow\": false, \"text\": \"<b>Hostage<br>Taking<br>(Barricade<br>Incident)</b>\", \"x\": 34.693812291340556, \"y\": 91.9209384862524}, {\"font\": {\"family\": \"Arial\", \"size\": 12.90874903034073}, \"showarrow\": false, \"text\": \"<b>Hostage<br>Taking<br>(Kidnapping)</b>\", \"x\": 48.16939853455771, \"y\": 91.9209384862524}, {\"font\": {\"family\": \"Arial\", \"size\": 7.05337470041881}, \"showarrow\": false, \"text\": \"<b>Unarmed<br>Assault</b>\", \"x\": 61.95446110320181, \"y\": 91.9209384862524}, {\"font\": {\"family\": \"Arial\", \"size\": 17.234220462470933}, \"showarrow\": false, \"text\": \"<b>Unknown</b>\", \"x\": 82.22773082004122, \"y\": 91.9209384862524}], \"height\": 1000, \"hovermode\": \"closest\", \"shapes\": [{\"fillcolor\": \"#a6cee3\", \"line\": {\"width\": 0.5}, \"type\": \"rect\", \"x0\": 0.0, \"x1\": 26.883390676370958, \"y0\": 0.0, \"y1\": 86.37807440365839}, {\"fillcolor\": \"#1f78b4\", \"line\": {\"width\": 0.5}, \"type\": \"rect\", \"x0\": 0.0, \"x1\": 26.883390676370958, \"y0\": 86.37807440365839, \"y1\": 100.0}, {\"fillcolor\": \"#b2df8a\", \"line\": {\"width\": 0.5}, \"type\": \"rect\", \"x0\": 26.883390676370958, \"x1\": 100.0, \"y0\": 0.0, \"y1\": 83.84187697250479}, {\"fillcolor\": \"#33a02c\", \"line\": {\"width\": 0.5}, \"type\": \"rect\", \"x0\": 26.883390676370958, \"x1\": 32.5022880798869, \"y0\": 83.84187697250479, \"y1\": 97.6524154283932}, {\"fillcolor\": \"#fb9a99\", \"line\": {\"width\": 0.5}, \"type\": \"rect\", \"x0\": 26.883390676370958, \"x1\": 32.5022880798869, \"y0\": 97.6524154283932, \"y1\": 100.0}, {\"fillcolor\": \"#e31a1c\", \"line\": {\"width\": 0.5}, \"type\": \"rect\", \"x0\": 32.5022880798869, \"x1\": 36.88533650279422, \"y0\": 83.84187697250479, \"y1\": 100.0}, {\"fillcolor\": \"#fdbf6f\", \"line\": {\"width\": 0.5}, \"type\": \"rect\", \"x0\": 36.88533650279422, \"x1\": 59.4534605663212, \"y0\": 83.84187697250479, \"y1\": 100.0}, {\"fillcolor\": \"#ff7f00\", \"line\": {\"width\": 0.5}, \"type\": \"rect\", \"x0\": 59.4534605663212, \"x1\": 64.45546164008242, \"y0\": 83.84187697250479, \"y1\": 100.0}, {\"fillcolor\": \"#cab2d6\", \"line\": {\"width\": 0.5}, \"type\": \"rect\", \"x0\": 64.45546164008242, \"x1\": 100.00000000000001, \"y0\": 83.84187697250479, \"y1\": 100.0}], \"title\": {\"text\": \"Types of terrorist attacks in non-democratic countries\"}, \"width\": 1000, \"xaxis\": {\"showgrid\": false, \"zeroline\": false}, \"yaxis\": {\"showgrid\": false, \"zeroline\": false}},\n",
       "                        {\"showLink\": false, \"linkText\": \"Export to plot.ly\", \"plotlyServerURL\": \"https://plot.ly\", \"responsive\": true}\n",
       "                    ).then(function(){\n",
       "                            \n",
       "var gd = document.getElementById('b4bea870-39d3-4f04-abb8-c9d74c327be9');\n",
       "var x = new MutationObserver(function (mutations, observer) {{\n",
       "        var display = window.getComputedStyle(gd).display;\n",
       "        if (!display || display === 'none') {{\n",
       "            console.log([gd, 'removed!']);\n",
       "            Plotly.purge(gd);\n",
       "            observer.disconnect();\n",
       "        }}\n",
       "}});\n",
       "\n",
       "// Listen for the removal of the full notebook cells\n",
       "var notebookContainer = gd.closest('#notebook-container');\n",
       "if (notebookContainer) {{\n",
       "    x.observe(notebookContainer, {childList: true});\n",
       "}}\n",
       "\n",
       "// Listen for the clearing of the current output cell\n",
       "var outputEl = gd.closest('.output');\n",
       "if (outputEl) {{\n",
       "    x.observe(outputEl, {childList: true});\n",
       "}}\n",
       "\n",
       "                        })\n",
       "                };\n",
       "                });\n",
       "            </script>\n",
       "        </div>"
      ]
     },
     "metadata": {},
     "output_type": "display_data"
    }
   ],
   "source": [
    "color_brewer = ['#a6cee3','#1f78b4','#b2df8a','#33a02c','#fb9a99','#e31a1c','#fdbf6f','#ff7f00','#cab2d6']\n",
    "categories = [k.replace(' ', '<br>') for k in sortedkeys]\n",
    "\n",
    "\n",
    "def treemap(values, text, colours ,title):\n",
    "\n",
    "    # dimensions treemap\n",
    "    x = 0.\n",
    "    y = 0.\n",
    "    width = 100.\n",
    "    height = 100.\n",
    "    \n",
    "    total_casualties = sum(values)\n",
    "    percentages = [(v/total_casualties)*100 for v in values]\n",
    "    \n",
    "    normed = squarify.normalize_sizes(values, width, height)\n",
    "    rects = squarify.squarify(normed, x, y, width, height)\n",
    "    \n",
    "    \n",
    "    shapes = []\n",
    "    annotations = []\n",
    "    counter = 0\n",
    "\n",
    "    for r in rects:\n",
    "        shapes.append( \n",
    "            dict(\n",
    "                type = 'rect', \n",
    "                x0 = r['x'], \n",
    "                y0 = r['y'], \n",
    "                x1 = r['x']+r['dx'], \n",
    "                y1 = r['y']+r['dy'],\n",
    "                line = dict( width = .5 ),\n",
    "                fillcolor = colours[counter]\n",
    "            ) \n",
    "        )\n",
    "        annotations.append(\n",
    "            dict(\n",
    "                x = r['x']+(r['dx']/2),\n",
    "                y = r['y']+(r['dy']/2),\n",
    "                text = '<b>' + text[counter] + '</b>',\n",
    "                showarrow = False,\n",
    "                font = dict(\n",
    "                    size = (r['dx'] + r['dy'])/3,\n",
    "                    family = 'Arial'\n",
    "                )\n",
    "            )\n",
    "        )\n",
    "        counter = counter + 1\n",
    "        if counter >= len(color_brewer):\n",
    "            counter = 0\n",
    "\n",
    "    # For hover text\n",
    "    trace = go.Scatter(\n",
    "        x = [ r['x']+(r['dx']/2) for r in rects ], \n",
    "        y = [ r['y']+(r['dy']/2) for r in rects ],\n",
    "        text = [ f\"{int(values[i])} casualties <br>{percentages[i]:.1f} % of total\" for i in range(len(values))],\n",
    "        hoverinfo = 'text'\n",
    "    )\n",
    "\n",
    "    layout = dict(\n",
    "        title = title,\n",
    "        height=1000, \n",
    "        width=1000,\n",
    "        xaxis=dict(showgrid=False,zeroline=False),\n",
    "        yaxis=dict(showgrid=False,zeroline=False),\n",
    "        shapes=shapes,\n",
    "        annotations=annotations,\n",
    "        hovermode='closest'\n",
    "    )\n",
    "    \n",
    "    return trace, layout, percentages\n",
    "\n",
    "trace0, layout0, percentages0 = treemap(dem_casualties, categories, color_brewer, 'Types of terrorist attacks in democratic countries')\n",
    "trace1, layout1, percentages1 = treemap(nondem_casualties, categories, color_brewer, 'Types of terrorist attacks in non-democratic countries')\n",
    "\n",
    "\n",
    "\n",
    "# Without hovertext\n",
    "# figure = dict(data=[Scatter()], layout=layout)\n",
    "\n",
    "iplot(dict(data=[trace0], layout=layout0), filename='treemap_democratic')\n",
    "iplot(dict(data=[trace1], layout=layout1), filename='treemap_democratic')"
   ]
  },
  {
   "cell_type": "code",
   "execution_count": 16,
   "metadata": {},
   "outputs": [
    {
     "data": {
      "application/vnd.plotly.v1+json": {
       "config": {
        "linkText": "Export to plot.ly",
        "plotlyServerURL": "https://plot.ly",
        "showLink": false
       },
       "data": [
        {
         "marker": {
          "color": [
           "rgb(0, 48, 240)",
           "rgb(215, 11, 11)",
           "rgb(0, 48, 240)",
           "rgb(215, 11, 11)",
           "rgb(215, 11, 11)",
           "rgb(215, 11, 11)",
           "rgb(0, 48, 240)",
           "rgb(215, 11, 11)",
           "rgb(215, 11, 11)"
          ]
         },
         "name": "Non Democratic countries",
         "orientation": "h",
         "type": "bar",
         "uid": "a6110eaf-be5b-4be6-ae0d-b981aab1e499",
         "x": [
          1.9881325768479075,
          -2.200122719349193,
          1.032176795921269,
          -0.5443130690989625,
          -5.837163302261474,
          -0.04364267784816034,
          13.068044457551409,
          -1.360073306690162,
          -6.103038755072632
         ],
         "y": [
          "Unknown",
          "Unarmed Assault",
          "Hostage Taking (Kidnapping)",
          "Hostage Taking (Barricade Incident)",
          "Hijacking",
          "Facility/Infrastructure Attack",
          "Bombing/Explosion",
          "Assassination",
          "Armed Assault"
         ]
        },
        {
         "marker": {
          "color": "rgb(215, 11, 11)"
         },
         "name": "Democratic countries",
         "showlegend": true,
         "type": "bar",
         "uid": "1d3d85a7-70bb-49eb-865f-d0a2e6d80ec5",
         "x": [
          null
         ],
         "y": [
          null
         ]
        }
       ],
       "layout": {
        "annotations": [
         {
          "showarrow": false,
          "text": "Percentueel verschil (%)",
          "x": 1,
          "xref": "paper",
          "y": 1.15,
          "yref": "paper"
         }
        ],
        "legend": {
         "x": 0.7,
         "y": 0.2
        },
        "margin": {
         "b": 50,
         "l": 275,
         "r": 50,
         "t": 150
        },
        "showlegend": true,
        "title": {
         "text": "Differences"
        },
        "width": 1000,
        "xaxis": {
         "dtick": 1,
         "showgrid": true,
         "showline": false,
         "showticklabels": true,
         "side": "top",
         "ticksuffix": ".0%",
         "zeroline": true
        }
       }
      },
      "text/html": [
       "<div>\n",
       "        \n",
       "        \n",
       "            <div id=\"96003066-74af-4c6a-bb08-a1b11f8d6718\" class=\"plotly-graph-div\" style=\"height:525px; width:1000px;\"></div>\n",
       "            <script type=\"text/javascript\">\n",
       "                require([\"plotly\"], function(Plotly) {\n",
       "                    window.PLOTLYENV=window.PLOTLYENV || {};\n",
       "                    window.PLOTLYENV.BASE_URL='https://plot.ly';\n",
       "                    \n",
       "                if (document.getElementById(\"96003066-74af-4c6a-bb08-a1b11f8d6718\")) {\n",
       "                    Plotly.newPlot(\n",
       "                        '96003066-74af-4c6a-bb08-a1b11f8d6718',\n",
       "                        [{\"marker\": {\"color\": [\"rgb(0, 48, 240)\", \"rgb(215, 11, 11)\", \"rgb(0, 48, 240)\", \"rgb(215, 11, 11)\", \"rgb(215, 11, 11)\", \"rgb(215, 11, 11)\", \"rgb(0, 48, 240)\", \"rgb(215, 11, 11)\", \"rgb(215, 11, 11)\"]}, \"name\": \"Non Democratic countries\", \"orientation\": \"h\", \"type\": \"bar\", \"uid\": \"a6110eaf-be5b-4be6-ae0d-b981aab1e499\", \"x\": [1.9881325768479075, -2.200122719349193, 1.032176795921269, -0.5443130690989625, -5.837163302261474, -0.04364267784816034, 13.068044457551409, -1.360073306690162, -6.103038755072632], \"y\": [\"Unknown\", \"Unarmed Assault\", \"Hostage Taking (Kidnapping)\", \"Hostage Taking (Barricade Incident)\", \"Hijacking\", \"Facility/Infrastructure Attack\", \"Bombing/Explosion\", \"Assassination\", \"Armed Assault\"]}, {\"marker\": {\"color\": \"rgb(215, 11, 11)\"}, \"name\": \"Democratic countries\", \"showlegend\": true, \"type\": \"bar\", \"uid\": \"1d3d85a7-70bb-49eb-865f-d0a2e6d80ec5\", \"x\": [null], \"y\": [null]}],\n",
       "                        {\"annotations\": [{\"showarrow\": false, \"text\": \"Percentueel verschil (%)\", \"x\": 1, \"xref\": \"paper\", \"y\": 1.15, \"yref\": \"paper\"}], \"legend\": {\"x\": 0.7, \"y\": 0.2}, \"margin\": {\"b\": 50, \"l\": 275, \"r\": 50, \"t\": 150}, \"showlegend\": true, \"title\": {\"text\": \"Differences\"}, \"width\": 1000, \"xaxis\": {\"dtick\": 1, \"showgrid\": true, \"showline\": false, \"showticklabels\": true, \"side\": \"top\", \"ticksuffix\": \".0%\", \"zeroline\": true}},\n",
       "                        {\"showLink\": false, \"linkText\": \"Export to plot.ly\", \"plotlyServerURL\": \"https://plot.ly\", \"responsive\": true}\n",
       "                    ).then(function(){\n",
       "                            \n",
       "var gd = document.getElementById('96003066-74af-4c6a-bb08-a1b11f8d6718');\n",
       "var x = new MutationObserver(function (mutations, observer) {{\n",
       "        var display = window.getComputedStyle(gd).display;\n",
       "        if (!display || display === 'none') {{\n",
       "            console.log([gd, 'removed!']);\n",
       "            Plotly.purge(gd);\n",
       "            observer.disconnect();\n",
       "        }}\n",
       "}});\n",
       "\n",
       "// Listen for the removal of the full notebook cells\n",
       "var notebookContainer = gd.closest('#notebook-container');\n",
       "if (notebookContainer) {{\n",
       "    x.observe(notebookContainer, {childList: true});\n",
       "}}\n",
       "\n",
       "// Listen for the clearing of the current output cell\n",
       "var outputEl = gd.closest('.output');\n",
       "if (outputEl) {{\n",
       "    x.observe(outputEl, {childList: true});\n",
       "}}\n",
       "\n",
       "                        })\n",
       "                };\n",
       "                });\n",
       "            </script>\n",
       "        </div>"
      ]
     },
     "metadata": {},
     "output_type": "display_data"
    }
   ],
   "source": [
    "import numpy as np\n",
    "\n",
    "democracy_colour = 'rgb(215, 11, 11)'\n",
    "nondemocracy_colour = 'rgb(0, 48, 240)'\n",
    "\n",
    "percentages_diff = list(np.array(percentages1)-np.array(percentages0))\n",
    "rev_keys = sortedkeys[::-1]\n",
    "\n",
    "rev_percentages_diff = percentages_diff[::-1]\n",
    "\n",
    "colours_differences = [democracy_colour if x<0 else nondemocracy_colour for x in rev_percentages_diff]\n",
    "\n",
    "\n",
    "trace_1 = go.Bar(\n",
    "    name = 'Non Democratic countries',\n",
    "    y = rev_keys,\n",
    "    x = rev_percentages_diff,\n",
    "    orientation = 'h',\n",
    "    marker = dict(color = colours_differences)\n",
    ")\n",
    "\n",
    "layout = go.Layout(\n",
    "    title = 'Differences',\n",
    "    legend = dict(x = 0.7, y = 0.2),\n",
    "    width = 1000,\n",
    "    showlegend = True,\n",
    "    xaxis = dict(\n",
    "        zeroline=True,\n",
    "        showline=False,\n",
    "        showticklabels=True,\n",
    "        showgrid=True,\n",
    "        side='top',\n",
    "        dtick=1,\n",
    "        ticksuffix = \".0%\"\n",
    "    ),\n",
    "    margin=go.layout.Margin(\n",
    "        l=275,\n",
    "        r=50,\n",
    "        b=50,\n",
    "        t=150\n",
    "    ),\n",
    "    annotations = [dict(\n",
    "            x=1,\n",
    "            y=1.15,\n",
    "            showarrow=False,\n",
    "            text='Percentueel verschil (%)',\n",
    "            xref='paper',\n",
    "            yref='paper'\n",
    "        )],\n",
    ")\n",
    "\n",
    "trace_2 = go.Bar(\n",
    "    name = 'Democratic countries',\n",
    "    x = [None],\n",
    "    y = [None],\n",
    "    marker = dict(color = democracy_colour),\n",
    "    showlegend = True\n",
    ")\n",
    "iplot(go.Figure(data=[trace_1, trace_2], layout=layout))\n"
   ]
  },
  {
   "cell_type": "code",
   "execution_count": 17,
   "metadata": {},
   "outputs": [
    {
     "data": {
      "application/vnd.plotly.v1+json": {
       "config": {
        "linkText": "Export to plot.ly",
        "plotlyServerURL": "https://plot.ly",
        "showLink": false
       },
       "data": [
        {
         "hole": 0.8,
         "showlegend": false,
         "text": [
          "New People's Army (NPA)",
          "Irish Republican Army (IRA)",
          "Basque Fatherland and Freedom (ETA)",
          "Revolutionary Armed Forces of Colombia (FARC)",
          "Shining Path (SL)",
          "Farabundo Marti National Liberation Front (FMLN)",
          "Kurdistan Workers' Party (PKK)",
          "Taliban",
          "Al-Shabaab",
          "Boko Haram",
          "Islamic State of Iraq and the Levant (ISIL)",
          "Overig (onder 2%)"
         ],
         "textposition": "outside",
         "type": "pie",
         "uid": "088b5a9a-01fe-4317-9937-8522a31e60c5",
         "values": [
          2772,
          2671,
          2024,
          2487,
          4555,
          3351,
          2310,
          7478,
          3288,
          2418,
          5613,
          59942
         ]
        }
       ],
       "layout": {
        "title": {
         "text": "Aanslagen terroristische groepen (1970 - 2017) "
        }
       }
      },
      "text/html": [
       "<div>\n",
       "        \n",
       "        \n",
       "            <div id=\"b373f961-e028-4233-817d-569114c6ec5e\" class=\"plotly-graph-div\" style=\"height:525px; width:100%;\"></div>\n",
       "            <script type=\"text/javascript\">\n",
       "                require([\"plotly\"], function(Plotly) {\n",
       "                    window.PLOTLYENV=window.PLOTLYENV || {};\n",
       "                    window.PLOTLYENV.BASE_URL='https://plot.ly';\n",
       "                    \n",
       "                if (document.getElementById(\"b373f961-e028-4233-817d-569114c6ec5e\")) {\n",
       "                    Plotly.newPlot(\n",
       "                        'b373f961-e028-4233-817d-569114c6ec5e',\n",
       "                        [{\"hole\": 0.8, \"showlegend\": false, \"text\": [\"New People's Army (NPA)\", \"Irish Republican Army (IRA)\", \"Basque Fatherland and Freedom (ETA)\", \"Revolutionary Armed Forces of Colombia (FARC)\", \"Shining Path (SL)\", \"Farabundo Marti National Liberation Front (FMLN)\", \"Kurdistan Workers' Party (PKK)\", \"Taliban\", \"Al-Shabaab\", \"Boko Haram\", \"Islamic State of Iraq and the Levant (ISIL)\", \"Overig (onder 2%)\"], \"textposition\": \"outside\", \"type\": \"pie\", \"uid\": \"088b5a9a-01fe-4317-9937-8522a31e60c5\", \"values\": [2772, 2671, 2024, 2487, 4555, 3351, 2310, 7478, 3288, 2418, 5613, 59942]}],\n",
       "                        {\"title\": {\"text\": \"Aanslagen terroristische groepen (1970 - 2017) \"}},\n",
       "                        {\"showLink\": false, \"linkText\": \"Export to plot.ly\", \"plotlyServerURL\": \"https://plot.ly\", \"responsive\": true}\n",
       "                    ).then(function(){\n",
       "                            \n",
       "var gd = document.getElementById('b373f961-e028-4233-817d-569114c6ec5e');\n",
       "var x = new MutationObserver(function (mutations, observer) {{\n",
       "        var display = window.getComputedStyle(gd).display;\n",
       "        if (!display || display === 'none') {{\n",
       "            console.log([gd, 'removed!']);\n",
       "            Plotly.purge(gd);\n",
       "            observer.disconnect();\n",
       "        }}\n",
       "}});\n",
       "\n",
       "// Listen for the removal of the full notebook cells\n",
       "var notebookContainer = gd.closest('#notebook-container');\n",
       "if (notebookContainer) {{\n",
       "    x.observe(notebookContainer, {childList: true});\n",
       "}}\n",
       "\n",
       "// Listen for the clearing of the current output cell\n",
       "var outputEl = gd.closest('.output');\n",
       "if (outputEl) {{\n",
       "    x.observe(outputEl, {childList: true});\n",
       "}}\n",
       "\n",
       "                        })\n",
       "                };\n",
       "                });\n",
       "            </script>\n",
       "        </div>"
      ]
     },
     "metadata": {},
     "output_type": "display_data"
    }
   ],
   "source": [
    "terror(df)"
   ]
  },
  {
   "cell_type": "markdown",
   "metadata": {},
   "source": [
    "## Politieke stabiliteit\n",
    "In de kaart hieronder is te zien dat de politieke stabiliteit in democratische landen hoger is. Deze index is gebaseerd op de controle van corruptie en effectiviteit van de overheid op het gebied van wetgeving en uitvoering. Het is niet vanzelfsprekend dat democratie op zich de reden is dat deze landen minder terrorisme hebben, maar het zou kunne dat de effectiviteit van de overheid ervoor zorgt dat overheden in democratische landen meer grip hebben op ernstige terroristische aanslagen zoals bomaanslagen en er daarom uiteindelijk minder mensen omkomen."
   ]
  },
  {
   "cell_type": "code",
   "execution_count": 18,
   "metadata": {},
   "outputs": [
    {
     "data": {
      "application/vnd.jupyter.widget-view+json": {
       "model_id": "c55523eca3eb43e7b01e9ce5f5e23d16",
       "version_major": 2,
       "version_minor": 0
      },
      "text/plain": [
       "interactive(children=(IntSlider(value=2017, continuous_update=False, description='Year: ', max=2017, min=1996)…"
      ]
     },
     "metadata": {},
     "output_type": "display_data"
    },
    {
     "data": {
      "text/plain": [
       "<function __main__.Scatterplot(year)>"
      ]
     },
     "execution_count": 18,
     "metadata": {},
     "output_type": "execute_result"
    }
   ],
   "source": [
    "wg.interact(Scatterplot, year = year)"
   ]
  },
  {
   "cell_type": "code",
   "execution_count": 19,
   "metadata": {},
   "outputs": [],
   "source": [
    "df_wgi\n",
    "df_wgi.columns = df_wgi.columns.str.strip().str.lower().str.replace(' ', '_').str.replace('(','').str.replace(')','')"
   ]
  },
  {
   "cell_type": "code",
   "execution_count": 20,
   "metadata": {},
   "outputs": [],
   "source": [
    "democratic_countries = pd.DataFrame()\n",
    "otherdf = pd.DataFrame()\n",
    "cyear = str(2015) + \"_[yr\" + str(2015) + ']'\n",
    "cyear2= df_wgi.loc[:, ['country_name', 'series_code', cyear]]\n",
    "tyear = df.loc[df['iyear'] == 2015]\n",
    "countries = tyear['country_txt'].unique()\n",
    "\n",
    "for country in countries:\n",
    "    if country in democracy:\n",
    "        cyear3 = cyear2.loc[cyear2['series_code'] == 'PV.EST']\n",
    "        cyear4 = cyear3.loc[cyear3['country_name']== country]\n",
    "        democratic_countries = democratic_countries.append(cyear4, ignore_index=True)\n",
    "    elif country in other:\n",
    "        cyear5 = cyear2.loc[cyear2['series_code'] == 'PV.EST']\n",
    "        cyear6 = cyear5.loc[cyear5['country_name']== country]\n",
    "        otherdf = otherdf.append(cyear6, ignore_index=True)\n"
   ]
  },
  {
   "cell_type": "code",
   "execution_count": 21,
   "metadata": {},
   "outputs": [
    {
     "data": {
      "application/vnd.plotly.v1+json": {
       "config": {
        "linkText": "Export to plot.ly",
        "plotlyServerURL": "https://plot.ly",
        "showLink": false
       },
       "data": [
        {
         "colorbar": {
          "title": {
           "text": "Political Stability"
          }
         },
         "colorscale": "Viridis",
         "locationmode": "country names",
         "locations": [
          "Sweden",
          "Turkey",
          "India",
          "Pakistan",
          "Indonesia",
          "Ukraine",
          "Nigeria",
          "Kenya",
          "Philippines",
          "Mexico",
          "United Kingdom",
          "Bulgaria",
          "Burundi",
          "United States",
          "France",
          "Netherlands",
          "Germany",
          "Greece",
          "Ireland",
          "South Africa",
          "Colombia",
          "Tunisia",
          "Israel",
          "Nepal",
          "Australia",
          "Paraguay",
          "Lesotho",
          "Cyprus",
          "Niger",
          "Albania",
          "Peru",
          "Denmark",
          "Chile",
          "Japan",
          "Kosovo",
          "Georgia",
          "Montenegro",
          "Brazil",
          "Hungary",
          "Canada",
          "Czech Republic",
          "Trinidad and Tobago",
          "Malta",
          "Senegal",
          "Ecuador",
          "Italy",
          "Estonia",
          "Finland",
          "Argentina",
          "Spain"
         ],
         "type": "choropleth",
         "uid": "a8d0f0d1-f931-407b-b3fa-0b62850c7a42",
         "z": [
          "0.9471064",
          "-1.493914",
          "-0.9484934",
          "-2.482708",
          "-0.6150607",
          "-1.9618",
          "-1.925443",
          "-1.244406",
          "-0.8556625",
          "-0.7986991",
          "0.5177479",
          "0.0173222",
          "-1.939511",
          "0.6780624",
          "0.1067064",
          "0.9261193",
          "0.6998243",
          "-0.2302524",
          "0.9084555",
          "-0.2129929",
          "-1.069147",
          "-0.9603872",
          "-1.094913",
          "-0.9983346",
          "0.8849798",
          "0.038498",
          "-0.3084288",
          "0.5508665",
          "-1.066546",
          "0.3461291",
          "-0.3975714",
          "0.8976498",
          "0.4334392",
          "1.065128",
          "-0.199357",
          "-0.4660819",
          "0.1407977",
          "-0.3314581",
          "0.7462977",
          "1.274698",
          "0.9791891",
          "0.2861143",
          "1.063939",
          "-0.1166648",
          "-0.1439559",
          "0.3759197",
          "0.6209198",
          "1.040587",
          "0.0147854",
          "0.2514912"
         ]
        },
        {
         "colorbar": {
          "title": {
           "text": "Political Stability"
          }
         },
         "colorscale": "Viridis",
         "locationmode": "country names",
         "locations": [
          "Iraq",
          "Libya",
          "Afghanistan",
          "Cameroon",
          "Somalia",
          "Sri Lanka",
          "Bangladesh",
          "Mali",
          "Uganda",
          "Saudi Arabia",
          "Sudan",
          "Algeria",
          "Lebanon",
          "South Sudan",
          "Thailand",
          "Myanmar",
          "Central African Republic",
          "Guinea",
          "Bahrain",
          "Malaysia",
          "Armenia",
          "China",
          "Chad",
          "Tanzania",
          "Mozambique",
          "Burkina Faso",
          "Qatar",
          "Ethiopia",
          "Jordan",
          "Kuwait",
          "Tajikistan",
          "Maldives",
          "Uzbekistan",
          "Morocco",
          "Djibouti"
         ],
         "type": "choropleth",
         "uid": "3bafff5d-6697-40a3-99a1-e43893679f0a",
         "z": [
          "-2.260352",
          "-2.196628",
          "-2.571222",
          "-0.9896075",
          "-2.380828",
          "0.0903681",
          "-1.212018",
          "-1.685664",
          "-0.8045017",
          "-0.626399",
          "-2.162183",
          "-1.09016",
          "-1.702587",
          "-2.375689",
          "-0.9944293",
          "-1.165067",
          "-1.904765",
          "-0.3869883",
          "-1.07354",
          "0.2589576",
          "-0.2523326",
          "-0.5502946",
          "-0.9745526",
          "-0.4161943",
          "-0.5138951",
          "-0.6111074",
          "0.9966304",
          "-1.498187",
          "-0.6057786",
          "-0.2134203",
          "-0.8826423",
          "0.4206715",
          "-0.3730364",
          "-0.3414874",
          "-0.4435316"
         ]
        }
       ],
       "layout": {
        "geo": {
         "projection": {
          "type": "equirectangular"
         },
         "scope": "world",
         "showcountries": true
        },
        "title": {
         "text": "Politieke Stabiliteit van Democratische Landen"
        },
        "updatemenus": [
         {
          "buttons": [
           {
            "args": [
             {
              "visible": [
               true,
               false
              ]
             }
            ],
            "label": "Democratic Countries",
            "method": "update"
           },
           {
            "args": [
             {
              "visible": [
               false,
               true
              ]
             }
            ],
            "label": "Non-democratic Countries",
            "method": "update"
           }
          ]
         }
        ]
       }
      },
      "text/html": [
       "<div>\n",
       "        \n",
       "        \n",
       "            <div id=\"1342ef1e-0624-4b18-bd89-c176222f7a41\" class=\"plotly-graph-div\" style=\"height:525px; width:100%;\"></div>\n",
       "            <script type=\"text/javascript\">\n",
       "                require([\"plotly\"], function(Plotly) {\n",
       "                    window.PLOTLYENV=window.PLOTLYENV || {};\n",
       "                    window.PLOTLYENV.BASE_URL='https://plot.ly';\n",
       "                    \n",
       "                if (document.getElementById(\"1342ef1e-0624-4b18-bd89-c176222f7a41\")) {\n",
       "                    Plotly.newPlot(\n",
       "                        '1342ef1e-0624-4b18-bd89-c176222f7a41',\n",
       "                        [{\"colorbar\": {\"title\": {\"text\": \"Political Stability\"}}, \"colorscale\": \"Viridis\", \"locationmode\": \"country names\", \"locations\": [\"Sweden\", \"Turkey\", \"India\", \"Pakistan\", \"Indonesia\", \"Ukraine\", \"Nigeria\", \"Kenya\", \"Philippines\", \"Mexico\", \"United Kingdom\", \"Bulgaria\", \"Burundi\", \"United States\", \"France\", \"Netherlands\", \"Germany\", \"Greece\", \"Ireland\", \"South Africa\", \"Colombia\", \"Tunisia\", \"Israel\", \"Nepal\", \"Australia\", \"Paraguay\", \"Lesotho\", \"Cyprus\", \"Niger\", \"Albania\", \"Peru\", \"Denmark\", \"Chile\", \"Japan\", \"Kosovo\", \"Georgia\", \"Montenegro\", \"Brazil\", \"Hungary\", \"Canada\", \"Czech Republic\", \"Trinidad and Tobago\", \"Malta\", \"Senegal\", \"Ecuador\", \"Italy\", \"Estonia\", \"Finland\", \"Argentina\", \"Spain\"], \"type\": \"choropleth\", \"uid\": \"a8d0f0d1-f931-407b-b3fa-0b62850c7a42\", \"z\": [\"0.9471064\", \"-1.493914\", \"-0.9484934\", \"-2.482708\", \"-0.6150607\", \"-1.9618\", \"-1.925443\", \"-1.244406\", \"-0.8556625\", \"-0.7986991\", \"0.5177479\", \"0.0173222\", \"-1.939511\", \"0.6780624\", \"0.1067064\", \"0.9261193\", \"0.6998243\", \"-0.2302524\", \"0.9084555\", \"-0.2129929\", \"-1.069147\", \"-0.9603872\", \"-1.094913\", \"-0.9983346\", \"0.8849798\", \"0.038498\", \"-0.3084288\", \"0.5508665\", \"-1.066546\", \"0.3461291\", \"-0.3975714\", \"0.8976498\", \"0.4334392\", \"1.065128\", \"-0.199357\", \"-0.4660819\", \"0.1407977\", \"-0.3314581\", \"0.7462977\", \"1.274698\", \"0.9791891\", \"0.2861143\", \"1.063939\", \"-0.1166648\", \"-0.1439559\", \"0.3759197\", \"0.6209198\", \"1.040587\", \"0.0147854\", \"0.2514912\"]}, {\"colorbar\": {\"title\": {\"text\": \"Political Stability\"}}, \"colorscale\": \"Viridis\", \"locationmode\": \"country names\", \"locations\": [\"Iraq\", \"Libya\", \"Afghanistan\", \"Cameroon\", \"Somalia\", \"Sri Lanka\", \"Bangladesh\", \"Mali\", \"Uganda\", \"Saudi Arabia\", \"Sudan\", \"Algeria\", \"Lebanon\", \"South Sudan\", \"Thailand\", \"Myanmar\", \"Central African Republic\", \"Guinea\", \"Bahrain\", \"Malaysia\", \"Armenia\", \"China\", \"Chad\", \"Tanzania\", \"Mozambique\", \"Burkina Faso\", \"Qatar\", \"Ethiopia\", \"Jordan\", \"Kuwait\", \"Tajikistan\", \"Maldives\", \"Uzbekistan\", \"Morocco\", \"Djibouti\"], \"type\": \"choropleth\", \"uid\": \"3bafff5d-6697-40a3-99a1-e43893679f0a\", \"z\": [\"-2.260352\", \"-2.196628\", \"-2.571222\", \"-0.9896075\", \"-2.380828\", \"0.0903681\", \"-1.212018\", \"-1.685664\", \"-0.8045017\", \"-0.626399\", \"-2.162183\", \"-1.09016\", \"-1.702587\", \"-2.375689\", \"-0.9944293\", \"-1.165067\", \"-1.904765\", \"-0.3869883\", \"-1.07354\", \"0.2589576\", \"-0.2523326\", \"-0.5502946\", \"-0.9745526\", \"-0.4161943\", \"-0.5138951\", \"-0.6111074\", \"0.9966304\", \"-1.498187\", \"-0.6057786\", \"-0.2134203\", \"-0.8826423\", \"0.4206715\", \"-0.3730364\", \"-0.3414874\", \"-0.4435316\"]}],\n",
       "                        {\"geo\": {\"projection\": {\"type\": \"equirectangular\"}, \"scope\": \"world\", \"showcountries\": true}, \"title\": {\"text\": \"Politieke Stabiliteit van Democratische Landen\"}, \"updatemenus\": [{\"buttons\": [{\"args\": [{\"visible\": [true, false]}], \"label\": \"Democratic Countries\", \"method\": \"update\"}, {\"args\": [{\"visible\": [false, true]}], \"label\": \"Non-democratic Countries\", \"method\": \"update\"}]}]},\n",
       "                        {\"showLink\": false, \"linkText\": \"Export to plot.ly\", \"plotlyServerURL\": \"https://plot.ly\", \"responsive\": true}\n",
       "                    ).then(function(){\n",
       "                            \n",
       "var gd = document.getElementById('1342ef1e-0624-4b18-bd89-c176222f7a41');\n",
       "var x = new MutationObserver(function (mutations, observer) {{\n",
       "        var display = window.getComputedStyle(gd).display;\n",
       "        if (!display || display === 'none') {{\n",
       "            console.log([gd, 'removed!']);\n",
       "            Plotly.purge(gd);\n",
       "            observer.disconnect();\n",
       "        }}\n",
       "}});\n",
       "\n",
       "// Listen for the removal of the full notebook cells\n",
       "var notebookContainer = gd.closest('#notebook-container');\n",
       "if (notebookContainer) {{\n",
       "    x.observe(notebookContainer, {childList: true});\n",
       "}}\n",
       "\n",
       "// Listen for the clearing of the current output cell\n",
       "var outputEl = gd.closest('.output');\n",
       "if (outputEl) {{\n",
       "    x.observe(outputEl, {childList: true});\n",
       "}}\n",
       "\n",
       "                        })\n",
       "                };\n",
       "                });\n",
       "            </script>\n",
       "        </div>"
      ]
     },
     "metadata": {},
     "output_type": "display_data"
    }
   ],
   "source": [
    "data1 = [go.Choropleth(\n",
    "    colorscale = 'Viridis',\n",
    "    z = democratic_countries['2015_[yr2015]'],\n",
    "    locations = democratic_countries['country_name'],\n",
    "    locationmode = 'country names',\n",
    "    colorbar = go.choropleth.ColorBar(\n",
    "        title = \"Political Stability\")\n",
    "),\n",
    "    go.Choropleth(\n",
    "    colorscale = 'Viridis',\n",
    "    z = otherdf['2015_[yr2015]'],\n",
    "    locations = otherdf['country_name'],\n",
    "    locationmode = 'country names',\n",
    "    colorbar = go.choropleth.ColorBar(\n",
    "        title = \"Political Stability\")\n",
    ")\n",
    "]\n",
    "\n",
    "layout = go.Layout(\n",
    "    title = go.layout.Title(\n",
    "        text = 'Politieke Stabiliteit van Democratische Landen'\n",
    "    ),\n",
    "    updatemenus = list([\n",
    "      dict(\n",
    "        #y = 0.8,\n",
    "        buttons = list([\n",
    "            dict(label='Democratic Countries',\n",
    "                method = 'update',\n",
    "                args = [{'visible': [True, False]}]),\n",
    "            dict(label='Non-democratic Countries',\n",
    "                method = 'update',\n",
    "                args = [{'visible': [False, True]}])\n",
    "        ])\n",
    "      )\n",
    "    ]),\n",
    "    geo = go.layout.Geo(\n",
    "        scope = 'world',\n",
    "        projection = go.layout.geo.Projection(type = 'equirectangular'),\n",
    "        showcountries = True),\n",
    "\n",
    ")\n",
    "\n",
    "fig = go.Figure(data = data1, layout = layout)\n",
    "iplot(fig)"
   ]
  },
  {
   "cell_type": "code",
   "execution_count": null,
   "metadata": {},
   "outputs": [],
   "source": []
  }
 ],
 "metadata": {
  "kernelspec": {
   "display_name": "Python 3",
   "language": "python",
   "name": "python3"
  },
  "language_info": {
   "codemirror_mode": {
    "name": "ipython",
    "version": 3
   },
   "file_extension": ".py",
   "mimetype": "text/x-python",
   "name": "python",
   "nbconvert_exporter": "python",
   "pygments_lexer": "ipython3",
   "version": "3.7.3"
  }
 },
 "nbformat": 4,
 "nbformat_minor": 2
}
